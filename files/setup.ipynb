{
 "cells": [
  {
   "cell_type": "code",
   "execution_count": null,
   "id": "f758a0c0-8284-43a3-aae8-8fb3d4bc8ccf",
   "metadata": {},
   "outputs": [],
   "source": [
    "import os\n",
    "import sys\n",
    "\n",
    "import piplite\n",
    "from pyodide.http import pyfetch\n",
    "sys.path.append('./')\n",
    "\n",
    "BRANCH = 'add_nmr'\n",
    "\n",
    "url_base = f'https://raw.githubusercontent.com/sametz/jupyterlite_test/tree/{BRANCH}/content/'\n",
    "print(url_base)\n",
    "file_list = ['utils/__init__.py', 'utils/panel_plots.py',\n",
    "            'nmrsim/__init__.py', 'nmrsim/_classes.py', 'nmrsim/_descriptors.py', \n",
    "            'nmrsim/_utils.py', 'nmrsim/discrete.py', 'nmrsim/dnmr.py',\n",
    "            'nmrsim/firstorder.py', 'nmrsim/math.py', 'nmrsim/plt.py', 'nmrsim/qm.py']\n",
    "\n",
    "for i in file_list:\n",
    "    print(f'processing {i}')\n",
    "    folder, _ = os.path.split(i)\n",
    "    if folder and not os.path.exists(folder): \n",
    "          print(f'folder \"{folder}\" not found; creating {folder}')\n",
    "          os.makedirs(folder)\n",
    "\n",
    "    url = url_base + i\n",
    "    print(f'fetching {url}')\n",
    "    response = await pyfetch(url)\n",
    "    print(f'writing {os.path.join(i)}')\n",
    "    with open(os.path.join(i),'w') as f:\n",
    "        f.write(await response.string())\n"
   ]
  },
  {
   "cell_type": "code",
   "execution_count": null,
   "id": "0da0d01f-3abe-48d3-a5e0-59a622443f77",
   "metadata": {},
   "outputs": [],
   "source": []
  }
 ],
 "metadata": {
  "kernelspec": {
   "display_name": "jupyterlite_test",
   "language": "python",
   "name": "jupyterlite_test"
  },
  "language_info": {
   "codemirror_mode": {
    "name": "ipython",
    "version": 3
   },
   "file_extension": ".py",
   "mimetype": "text/x-python",
   "name": "python",
   "nbconvert_exporter": "python",
   "pygments_lexer": "ipython3",
   "version": "3.8.13"
  }
 },
 "nbformat": 4,
 "nbformat_minor": 5
}